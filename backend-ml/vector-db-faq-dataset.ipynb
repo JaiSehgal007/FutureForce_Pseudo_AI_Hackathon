{
 "cells": [
  {
   "cell_type": "code",
   "execution_count": 1,
   "id": "81f529b9",
   "metadata": {},
   "outputs": [
    {
     "name": "stdout",
     "output_type": "stream",
     "text": [
      "WARNING:tensorflow:From e:\\Python\\Lib\\site-packages\\tf_keras\\src\\losses.py:2976: The name tf.losses.sparse_softmax_cross_entropy is deprecated. Please use tf.compat.v1.losses.sparse_softmax_cross_entropy instead.\n",
      "\n"
     ]
    }
   ],
   "source": [
    "import pinecone\n",
    "from pinecone import Pinecone, ServerlessSpec\n",
    "from sentence_transformers import SentenceTransformer\n",
    "import pandas as pd\n",
    "import uuid"
   ]
  },
  {
   "cell_type": "code",
   "execution_count": null,
   "id": "70db6e0c",
   "metadata": {},
   "outputs": [],
   "source": [
    "pc = Pinecone(api_key=\"key\")"
   ]
  },
  {
   "cell_type": "code",
   "execution_count": 3,
   "id": "9324a763",
   "metadata": {},
   "outputs": [],
   "source": [
    "index_name = \"learning-buddy-faq\""
   ]
  },
  {
   "cell_type": "code",
   "execution_count": 4,
   "id": "f67e24a1",
   "metadata": {},
   "outputs": [],
   "source": [
    "if index_name not in pc.list_indexes().names():\n",
    "    pc.create_index(\n",
    "        name=index_name,\n",
    "        dimension=384,\n",
    "        metric=\"cosine\",\n",
    "        spec=ServerlessSpec(\n",
    "            cloud=\"aws\",\n",
    "            region=\"us-east-1\"\n",
    "        )\n",
    "    )"
   ]
  },
  {
   "cell_type": "code",
   "execution_count": 5,
   "id": "702cd333",
   "metadata": {},
   "outputs": [],
   "source": [
    "index = pc.Index(index_name)"
   ]
  },
  {
   "cell_type": "code",
   "execution_count": 6,
   "id": "62f14e1c",
   "metadata": {},
   "outputs": [],
   "source": [
    "model = SentenceTransformer('sentence-transformers/all-MiniLM-L6-v2')"
   ]
  },
  {
   "cell_type": "code",
   "execution_count": 7,
   "id": "9f01a396",
   "metadata": {},
   "outputs": [],
   "source": [
    "csv_file = \"faq_dataset.csv\"\n",
    "df = pd.read_csv(csv_file)"
   ]
  },
  {
   "cell_type": "code",
   "execution_count": 9,
   "id": "74e5379b",
   "metadata": {},
   "outputs": [],
   "source": [
    "required_columns = [\"question\", \"answer\"]\n",
    "for col in required_columns:\n",
    "    if col not in df.columns:\n",
    "        raise ValueError(f\"Column '{col}' not found in CSV\")"
   ]
  },
  {
   "cell_type": "code",
   "execution_count": 10,
   "id": "9e26687b",
   "metadata": {},
   "outputs": [],
   "source": [
    "items_to_upsert = []\n",
    "for _, row in df.iterrows():\n",
    "    # Generate embedding for the question column\n",
    "    question = str(row[\"question\"])  # Convert to string to handle non-string data\n",
    "    embedding = model.encode(question).tolist()  # Convert numpy array to list\n",
    "    \n",
    "    # Use existing ID if available, otherwise generate a unique ID\n",
    "    item_id = str(row.get(\"id\", uuid.uuid4()))\n",
    "    \n",
    "    # Create metadata with question and answer\n",
    "    metadata = {\n",
    "        \"question\": question,\n",
    "        \"answer\": str(row[\"answer\"])\n",
    "    }\n",
    "    \n",
    "    # Add to upsert list\n",
    "    items_to_upsert.append((item_id, embedding, metadata))"
   ]
  },
  {
   "cell_type": "code",
   "execution_count": 11,
   "id": "3edad228",
   "metadata": {},
   "outputs": [
    {
     "name": "stdout",
     "output_type": "stream",
     "text": [
      "Upserted batch 1 of 1\n"
     ]
    }
   ],
   "source": [
    "batch_size = 100\n",
    "for i in range(0, len(items_to_upsert), batch_size):\n",
    "    batch = items_to_upsert[i:i + batch_size]\n",
    "    index.upsert(vectors=batch)\n",
    "    print(f\"Upserted batch {i // batch_size + 1} of {len(items_to_upsert) // batch_size + 1}\")"
   ]
  },
  {
   "cell_type": "code",
   "execution_count": null,
   "id": "8a9d7c42",
   "metadata": {},
   "outputs": [],
   "source": [
    "query_text = \"Is there a mobile app available?\"\n",
    "query_embedding = model.encode(query_text).tolist()\n",
    "results = index.query(vector=query_embedding, top_k=2, include_metadata=True)"
   ]
  },
  {
   "cell_type": "code",
   "execution_count": 15,
   "id": "1dab191b",
   "metadata": {},
   "outputs": [
    {
     "name": "stdout",
     "output_type": "stream",
     "text": [
      "\n",
      "Query Results:\n",
      "ID: 4, Score: 0.96848917, Question: Is there a mobile app available?, Answer: Yes, you can download our mobile app from the App Store or Google Play Store.\n",
      "ID: 50, Score: 0.407608449, Question: Is there a loyalty program?, Answer: Yes, you earn points for learning activity that can be redeemed later.\n"
     ]
    }
   ],
   "source": [
    "print(\"\\nQuery Results:\")\n",
    "for match in results[\"matches\"]:\n",
    "    print(f\"ID: {match['id']}, Score: {match['score']}, Question: {match['metadata']['question']}, Answer: {match['metadata']['answer']}\")"
   ]
  },
  {
   "cell_type": "code",
   "execution_count": null,
   "id": "50066876",
   "metadata": {},
   "outputs": [],
   "source": []
  }
 ],
 "metadata": {
  "kernelspec": {
   "display_name": "Python 3",
   "language": "python",
   "name": "python3"
  },
  "language_info": {
   "codemirror_mode": {
    "name": "ipython",
    "version": 3
   },
   "file_extension": ".py",
   "mimetype": "text/x-python",
   "name": "python",
   "nbconvert_exporter": "python",
   "pygments_lexer": "ipython3",
   "version": "3.12.8"
  }
 },
 "nbformat": 4,
 "nbformat_minor": 5
}
